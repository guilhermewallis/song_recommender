{
 "cells": [
  {
   "cell_type": "code",
   "execution_count": 1,
   "id": "90ea82a3",
   "metadata": {
    "collapsed": true
   },
   "outputs": [
    {
     "name": "stdout",
     "output_type": "stream",
     "text": [
      "Defaulting to user installation because normal site-packages is not writeable\n",
      "Requirement already satisfied: bs4 in c:\\users\\grwc9\\appdata\\roaming\\python\\python310\\site-packages (0.0.1)\n",
      "Requirement already satisfied: beautifulsoup4 in c:\\programdata\\anaconda3\\lib\\site-packages (from bs4) (4.11.1)\n",
      "Requirement already satisfied: soupsieve>1.2 in c:\\programdata\\anaconda3\\lib\\site-packages (from beautifulsoup4->bs4) (2.3.2.post1)\n"
     ]
    }
   ],
   "source": [
    "!pip install bs4"
   ]
  },
  {
   "cell_type": "code",
   "execution_count": 2,
   "id": "3fcb1814",
   "metadata": {
    "collapsed": true
   },
   "outputs": [
    {
     "name": "stdout",
     "output_type": "stream",
     "text": [
      "Defaulting to user installation because normal site-packages is not writeable\n",
      "Requirement already satisfied: spotipy in c:\\users\\grwc9\\appdata\\roaming\\python\\python310\\site-packages (2.23.0)\n",
      "Requirement already satisfied: six>=1.15.0 in c:\\programdata\\anaconda3\\lib\\site-packages (from spotipy) (1.16.0)\n",
      "Requirement already satisfied: urllib3>=1.26.0 in c:\\programdata\\anaconda3\\lib\\site-packages (from spotipy) (1.26.14)\n",
      "Requirement already satisfied: redis>=3.5.3 in c:\\users\\grwc9\\appdata\\roaming\\python\\python310\\site-packages (from spotipy) (5.0.0)\n",
      "Requirement already satisfied: requests>=2.25.0 in c:\\programdata\\anaconda3\\lib\\site-packages (from spotipy) (2.28.1)\n",
      "Requirement already satisfied: async-timeout>=4.0.2 in c:\\users\\grwc9\\appdata\\roaming\\python\\python310\\site-packages (from redis>=3.5.3->spotipy) (4.0.3)\n",
      "Requirement already satisfied: certifi>=2017.4.17 in c:\\programdata\\anaconda3\\lib\\site-packages (from requests>=2.25.0->spotipy) (2023.7.22)\n",
      "Requirement already satisfied: charset-normalizer<3,>=2 in c:\\programdata\\anaconda3\\lib\\site-packages (from requests>=2.25.0->spotipy) (2.0.4)\n",
      "Requirement already satisfied: idna<4,>=2.5 in c:\\programdata\\anaconda3\\lib\\site-packages (from requests>=2.25.0->spotipy) (3.4)\n"
     ]
    }
   ],
   "source": [
    "!pip install spotipy"
   ]
  },
  {
   "cell_type": "code",
   "execution_count": 190,
   "id": "3059e554",
   "metadata": {},
   "outputs": [],
   "source": [
    "import numpy as np\n",
    "import pandas as pd\n",
    "import matplotlib.pyplot as plt\n",
    "\n",
    "import requests\n",
    "from bs4 import BeautifulSoup\n",
    "\n",
    "import spotipy\n",
    "from spotipy.oauth2 import SpotifyClientCredentials\n",
    "\n",
    "from sklearn.preprocessing import StandardScaler\n",
    "from sklearn.cluster import KMeans\n",
    "from sklearn.decomposition import PCA\n",
    "\n",
    "from sklearn.metrics import accuracy_score\n",
    "from sklearn.metrics import silhouette_score\n",
    "from sklearn.metrics import classification_report\n",
    "from sklearn.metrics import pairwise_distances_argmin_min"
   ]
  },
  {
   "cell_type": "code",
   "execution_count": 191,
   "id": "0bee3d1f",
   "metadata": {},
   "outputs": [],
   "source": [
    "sp = spotipy.Spotify(auth_manager=SpotifyClientCredentials(client_id=\"e5af6275806e4e8ebf14a5d71e202fad\",\n",
    "                                                           client_secret=\"a72673ed83bb437d83c801b760a066d5\"))"
   ]
  },
  {
   "cell_type": "code",
   "execution_count": 192,
   "id": "f2b9fcbd",
   "metadata": {},
   "outputs": [],
   "source": [
    "def get_df_from_playlist(playlist_id):\n",
    "    \n",
    "    results = sp.user_playlist_tracks(\"spotify\", playlist_id)\n",
    "    tracks = results['items']\n",
    "\n",
    "    while results['next']:\n",
    "        results = sp.next(results)\n",
    "        tracks.extend(results['items'])\n",
    "    \n",
    "    track_ids = [track['track']['uri'] for track in tracks]\n",
    "    \n",
    "    start = 0\n",
    "    df = pd.DataFrame()\n",
    "\n",
    "    for stop in range(0, len(track_ids)+100, 100):\n",
    "        if start != stop:\n",
    "            new_df = pd.json_normalize(sp.audio_features(track_ids[start:stop]))\n",
    "            df = pd.concat([new_df, df])\n",
    "            start = stop\n",
    "\n",
    "    df = df.reset_index(drop=True)\n",
    "    df.drop(['type', 'uri', 'track_href', 'analysis_url',], axis=1, inplace=True)\n",
    "    \n",
    "    main_artist_names = [track['track']['artists'][0]['name'] for track in tracks]\n",
    "    song_names = [track['track']['name'] for track in tracks]\n",
    "    df['main_artist'] = main_artist_names\n",
    "    df['song_name'] = song_names\n",
    "\n",
    "    return df"
   ]
  },
  {
   "cell_type": "code",
   "execution_count": 193,
   "id": "653e813d",
   "metadata": {},
   "outputs": [],
   "source": [
    "def get_df_from_multi_playlists(playlists):\n",
    "\n",
    "    df = pd.DataFrame()\n",
    "\n",
    "    for pl in playlists:\n",
    "\n",
    "        df_ = get_df_from_playlist(playlists[pl])\n",
    "        df = pd.concat([df,df_]).drop_duplicates().reset_index(drop=True)\n",
    "\n",
    "    return df"
   ]
  },
  {
   "cell_type": "code",
   "execution_count": 194,
   "id": "497ad7f6",
   "metadata": {},
   "outputs": [],
   "source": [
    "#official Billboard Hot 100 playlist\n",
    "\n",
    "df_hot100_current = get_df_from_playlist(\"6UeSakyzhiEt4NB3UAd6NQ\")"
   ]
  },
  {
   "cell_type": "code",
   "execution_count": 195,
   "id": "95097cbb",
   "metadata": {},
   "outputs": [],
   "source": [
    "#From Wikipedia: List of Billboard Hot 100 top-ten singles in 2023\n",
    "\n",
    "#r = requests.get('https://en.wikipedia.org/wiki/List_of_Billboard_Hot_100_top-ten_singles_in_2023')\n",
    "#r.status_code"
   ]
  },
  {
   "cell_type": "code",
   "execution_count": 196,
   "id": "53d3350d",
   "metadata": {},
   "outputs": [],
   "source": [
    "#official Spotify top 50 charts: Global and top 10 markets\n",
    "#https://en.wikipedia.org/wiki/List_of_largest_recorded_music_markets (2022 table)\n",
    "\n",
    "top_by_market_playlists = {\n",
    "    \n",
    "    \"top_gb\" : \"37i9dQZEVXbNG2KDcFcKOF\", #Global\n",
    "    \"top_us\" : \"37i9dQZEVXbLp5XoPON0wI\", #United States\n",
    "    \"top_jp\" : \"37i9dQZEVXbKqiTGXuCOsB\", #Japan\n",
    "    \"top_uk\" : \"37i9dQZEVXbMwmF30ppw50\", #United Kingdom\n",
    "    \"top_de\" : \"37i9dQZEVXbK8BKKMArIyl\", #Germany\n",
    "    \"top_fr\" : \"37i9dQZEVXbIPWwFssbupI\", #France\n",
    "    \"top_sk\" : \"37i9dQZEVXbJZGli0rRP3r\", #South Korea\n",
    "    \"top_ca\" : \"37i9dQZEVXbMda2apknTqH\", #Canada\n",
    "    \"top_br\" : \"37i9dQZEVXbKzoK95AbRy9\", #Brazil\n",
    "    \"top_au\" : \"37i9dQZEVXbK4fwx2r07XW\", #Australia\n",
    "    \"top_it\" : \"37i9dQZEVXbJUPkgaWZcWG\" #Italy (no playlist available for China)\n",
    "}"
   ]
  },
  {
   "cell_type": "code",
   "execution_count": 197,
   "id": "7e424501",
   "metadata": {
    "scrolled": true
   },
   "outputs": [],
   "source": [
    "df_top_all_markets = get_df_from_multi_playlists(top_by_market_playlists)"
   ]
  },
  {
   "cell_type": "code",
   "execution_count": 220,
   "id": "84e557e6",
   "metadata": {},
   "outputs": [],
   "source": [
    "df_top_songs = pd.concat([df_hot100_current, df_top_all_markets]).drop_duplicates().dropna().reset_index(drop=True)"
   ]
  },
  {
   "cell_type": "code",
   "execution_count": 199,
   "id": "a69659ce",
   "metadata": {},
   "outputs": [],
   "source": [
    "#most popular music genres\n",
    "#https://headphonesaddict.com/music-genre-statistics/#Most_Popular_Music_Genre_Statistics\n",
    "#separate by genres and decades\n",
    "#top_genres_gb = ['Pop', 'Rock', '90s', '80s', 'Soundtracks', 'Hip-hop/Rap/Trap', 'R&B', 'Dance/Electronic/House', '70s', 'Soul/Blues']"
   ]
  },
  {
   "cell_type": "code",
   "execution_count": 200,
   "id": "68f4d67c",
   "metadata": {},
   "outputs": [],
   "source": [
    "#most popular music genres\n",
    "#spotify playlists\n",
    "\n",
    "#\"most streamed rap songs on spotify\""
   ]
  },
  {
   "cell_type": "code",
   "execution_count": 201,
   "id": "2e979c76",
   "metadata": {},
   "outputs": [],
   "source": [
    "#best of playlists\n",
    "#genre\n",
    "best_by_genre_playlists = {\n",
    "    \n",
    "    \"best_hiphop\" : \"37i9dQZF1DX5qmTk3PVatJ\", #greatest hiphop beats of all time - 50\n",
    "    \"best_classic_rock\" : \"37i9dQZF1DWXRqgorJj26U\", #rock classics - 200\n",
    "    \"best_pop\" : \"7AsZxdanrHJFNGp3q7tp1f\" #best of pop 1990 2023 - 1200\n",
    "}"
   ]
  },
  {
   "cell_type": "code",
   "execution_count": 202,
   "id": "181768a8",
   "metadata": {},
   "outputs": [],
   "source": [
    "df_best_by_genre = get_df_from_multi_playlists(best_by_genre_playlists)"
   ]
  },
  {
   "cell_type": "code",
   "execution_count": 203,
   "id": "ac64c47d",
   "metadata": {},
   "outputs": [],
   "source": [
    "# decade\n",
    "best_by_decade_playlists = {\n",
    "    \n",
    "    \"best_80s\" : \"37i9dQZF1DX4UtSsGT1Sbe\", #all out 80s - 50\n",
    "    \"best_90s\" : \"37i9dQZF1DXbTxeAdrVG2l\" #all out 90s - 50\n",
    "}"
   ]
  },
  {
   "cell_type": "code",
   "execution_count": 204,
   "id": "d1c15c85",
   "metadata": {},
   "outputs": [],
   "source": [
    "df_best_by_decade = get_df_from_multi_playlists(best_by_decade_playlists)"
   ]
  },
  {
   "cell_type": "code",
   "execution_count": 221,
   "id": "30e2460f",
   "metadata": {},
   "outputs": [],
   "source": [
    "#concat all songs\n",
    "df_all_best_songs = pd.concat([df_best_by_genre, df_best_by_decade]).drop_duplicates().dropna().reset_index(drop=True)"
   ]
  },
  {
   "cell_type": "code",
   "execution_count": 206,
   "id": "2a9f81d0",
   "metadata": {},
   "outputs": [],
   "source": [
    "#df_all_best_filtered = pd.merge(df_all_best_songs, df_top_songs, how='outer', indicator=True)\n",
    "#df_all_best_filtered = df_all_best_filtered[df_all_best_filtered['_merge']=='left_only']"
   ]
  },
  {
   "cell_type": "code",
   "execution_count": 207,
   "id": "0ec88e61",
   "metadata": {},
   "outputs": [],
   "source": [
    "cols = ['danceability', 'energy', 'key', 'loudness', 'mode', 'speechiness', 'acousticness', 'instrumentalness', 'liveness', 'valence', 'tempo']"
   ]
  },
  {
   "cell_type": "markdown",
   "id": "2c16ae95",
   "metadata": {},
   "source": [
    "## II"
   ]
  },
  {
   "cell_type": "code",
   "execution_count": 231,
   "id": "2786f0a7",
   "metadata": {},
   "outputs": [],
   "source": [
    "def apply_kmeans(scaled_x, cluster, df):\n",
    "    x = df[cols]\n",
    "    scaler = StandardScaler()\n",
    "    x_prep = scaler.fit_transform(x)\n",
    "\n",
    "    kmeans = KMeans(n_clusters=3, random_state=42)\n",
    "    kmeans.fit(x_prep)\n",
    "\n",
    "    clusters = kmeans.predict(x_prep)\n",
    "\n",
    "    scaled_df = pd.DataFrame(x_prep, columns=x.columns)\n",
    "    scaled_df['song_name'] = df['song_name']\n",
    "    scaled_df['main_artist'] = df['main_artist']\n",
    "    scaled_df['cluster'] = clusters\n",
    "    \n",
    "    filtered_df = np.array(scaled_df[scaled_df['cluster'] == cluster[0]][x.columns], order=\"C\")\n",
    "    closest, _ = pairwise_distances_argmin_min(scaled_x, filtered_df)\n",
    "    print('\\n[RECOMMENDED SONG]')\n",
    "    print(' - '.join([scaled_df.loc[closest]['song_name'].values[0], scaled_df.loc[closest]['main_artist'].values[0]]))"
   ]
  },
  {
   "cell_type": "markdown",
   "id": "04b9f28a",
   "metadata": {},
   "source": [
    "## III"
   ]
  },
  {
   "cell_type": "code",
   "execution_count": 232,
   "id": "eaef9d3e",
   "metadata": {},
   "outputs": [],
   "source": [
    "\n",
    "#format: \"song title\" OR \"song tile\" + \"artist\""
   ]
  },
  {
   "cell_type": "code",
   "execution_count": 233,
   "id": "f91fb1bc",
   "metadata": {},
   "outputs": [],
   "source": [
    "def get_song_by_keywords(kws):\n",
    "    \n",
    "    results = sp.search(q=f'track:{kws}', limit=1)\n",
    "    \n",
    "    track_id = results['tracks']['items'][0]['id']\n",
    "    track_name = results['tracks']['items'][0]['name']\n",
    "    track_artist = results['tracks']['items'][0]['artists'][0]['name']\n",
    "    \n",
    "    print(track_name, '-', track_artist)\n",
    "    \n",
    "    audio_features = sp.audio_features(track_id)\n",
    "    df_ = pd.DataFrame(audio_features)\n",
    "    new_features = df_[x.columns]\n",
    "    scaled_x = scaler.transform(new_features)\n",
    "    cluster = kmeans.predict(scaled_x)\n",
    "    \n",
    "    df_clusters = df_top_songs if track_id in df_top_songs['id'].values else df_all_best_songs\n",
    "    \n",
    "    apply_kmeans(scaled_x, cluster, df_clusters)"
   ]
  },
  {
   "cell_type": "code",
   "execution_count": 235,
   "id": "7d81dab6",
   "metadata": {},
   "outputs": [
    {
     "name": "stdout",
     "output_type": "stream",
     "text": [
      "Viva La Vida - Coldplay\n"
     ]
    },
    {
     "name": "stderr",
     "output_type": "stream",
     "text": [
      "C:\\Users\\grwc9\\AppData\\Roaming\\Python\\Python310\\site-packages\\sklearn\\cluster\\_kmeans.py:870: FutureWarning: The default value of `n_init` will change from 10 to 'auto' in 1.4. Set the value of `n_init` explicitly to suppress the warning\n",
      "  warnings.warn(\n"
     ]
    },
    {
     "name": "stdout",
     "output_type": "stream",
     "text": [
      "\n",
      "[RECOMMENDED SONG]\n",
      "I'm a Slave 4 U - Britney Spears\n"
     ]
    }
   ],
   "source": [
    "#kws = input('Choose a song: ')\n",
    "kws = 'viva la vida'\n",
    "get_song_by_keywords(kws)"
   ]
  },
  {
   "cell_type": "code",
   "execution_count": null,
   "id": "7e70fbec",
   "metadata": {},
   "outputs": [],
   "source": []
  }
 ],
 "metadata": {
  "kernelspec": {
   "display_name": "Python 3 (ipykernel)",
   "language": "python",
   "name": "python3"
  },
  "language_info": {
   "codemirror_mode": {
    "name": "ipython",
    "version": 3
   },
   "file_extension": ".py",
   "mimetype": "text/x-python",
   "name": "python",
   "nbconvert_exporter": "python",
   "pygments_lexer": "ipython3",
   "version": "3.10.9"
  }
 },
 "nbformat": 4,
 "nbformat_minor": 5
}
