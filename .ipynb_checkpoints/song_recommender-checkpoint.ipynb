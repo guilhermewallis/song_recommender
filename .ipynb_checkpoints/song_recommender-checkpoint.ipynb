{
 "cells": [
  {
   "cell_type": "markdown",
   "id": "95d352c7",
   "metadata": {},
   "source": [
    "# Song Recommender"
   ]
  },
  {
   "cell_type": "markdown",
   "id": "3ec2e6cd",
   "metadata": {},
   "source": [
    "## Goal"
   ]
  },
  {
   "cell_type": "markdown",
   "id": "1dba6f18",
   "metadata": {},
   "source": [
    "#### The goal of this script is to provide song recommendations to a user based on their input making use of a machine learning algorithm\n",
    "#### The algorithm generates the recomendation based on one condition:\n",
    "* if the inputed song is currently popular/trending, it suggests an also currently popular song. Otherwise it returns a  recommendation from a larger more generic pool of songs.\n",
    "    * It implements an unsupervised learning algorithm that creates clusters of songs based on similarities in their audio features.\n",
    "    * It then matches the inputed song with the most similar cluster in the data and recommends the closest element to the user."
   ]
  },
  {
   "cell_type": "markdown",
   "id": "a923f9d3",
   "metadata": {},
   "source": [
    "## Data"
   ]
  },
  {
   "cell_type": "markdown",
   "id": "c3f418a3",
   "metadata": {},
   "source": [
    "#### The script gathers song data containing song names, artist names and several features of the audio track\n",
    "* data is sourced through the Spotify API\n",
    "* song choices are researched throughout the web and sourced from popular user generated and offical Spotify playlists:\n",
    "    * popular charts and trending in social media (ex Billboard, Tiktok)\n",
    "    * recently popular/emerging artists\n",
    "    * top countries by music market share (ex Wikipedia article)\n",
    "    * most popular music genres in current days\n",
    "    * greatist hits of past decades and/or specific popular genres"
   ]
  },
  {
   "cell_type": "code",
   "execution_count": 1,
   "id": "6641ee64",
   "metadata": {},
   "outputs": [],
   "source": [
    "#!pip install bs4"
   ]
  },
  {
   "cell_type": "code",
   "execution_count": 2,
   "id": "819d67de",
   "metadata": {},
   "outputs": [],
   "source": [
    "#!pip install spotipy"
   ]
  },
  {
   "cell_type": "code",
   "execution_count": 22,
   "id": "962e60f3",
   "metadata": {},
   "outputs": [],
   "source": [
    "import warnings\n",
    "warnings.filterwarnings('ignore')\n",
    "import time\n",
    "\n",
    "import numpy as np\n",
    "import pandas as pd\n",
    "import matplotlib.pyplot as plt\n",
    "\n",
    "import requests\n",
    "from bs4 import BeautifulSoup\n",
    "\n",
    "import spotipy\n",
    "from spotipy.oauth2 import SpotifyClientCredentials\n",
    "\n",
    "from sklearn.preprocessing import StandardScaler\n",
    "from sklearn.cluster import KMeans\n",
    "from sklearn.decomposition import PCA\n",
    "\n",
    "from sklearn.metrics import accuracy_score\n",
    "from sklearn.metrics import silhouette_score\n",
    "from sklearn.metrics import classification_report\n",
    "from sklearn.metrics import pairwise_distances_argmin_min"
   ]
  },
  {
   "cell_type": "code",
   "execution_count": 23,
   "id": "9401e8e3",
   "metadata": {},
   "outputs": [],
   "source": [
    "sp = spotipy.Spotify(auth_manager=SpotifyClientCredentials(client_id=\"8b82ad952fa146cea44e222c46aae1e8\",\n",
    "                                                           client_secret=\"a2b6deb5dc3943a299811af9a65cc448\"))"
   ]
  },
  {
   "cell_type": "markdown",
   "id": "3e7bc6f0",
   "metadata": {},
   "source": [
    "#### Helper functions - retrieve a dataframe containing song name, artist and audio features from a Spotify playlist URL"
   ]
  },
  {
   "cell_type": "code",
   "execution_count": 24,
   "id": "3f647eff",
   "metadata": {},
   "outputs": [],
   "source": [
    "def get_df_from_playlist(playlist_id):\n",
    "    \n",
    "    results = sp.user_playlist_tracks(\"spotify\", playlist_id)\n",
    "    tracks = results['items']\n",
    "\n",
    "    while results['next']:\n",
    "        results = sp.next(results)\n",
    "        tracks.extend(results['items'])\n",
    "    \n",
    "    track_ids = [track['track']['uri'] for track in tracks]\n",
    "    \n",
    "    start = 0\n",
    "    df = pd.DataFrame()\n",
    "\n",
    "    for stop in range(0, len(track_ids)+100, 100):\n",
    "        if start != stop:\n",
    "            new_df = pd.json_normalize(sp.audio_features(track_ids[start:stop]))\n",
    "            df = pd.concat([new_df, df])\n",
    "            start = stop\n",
    "\n",
    "    df = df.reset_index(drop=True)\n",
    "    df.drop(['type', 'uri', 'track_href', 'analysis_url',], axis=1, inplace=True)\n",
    "    \n",
    "    main_artist_names = [track['track']['artists'][0]['name'] for track in tracks]\n",
    "    song_names = [track['track']['name'] for track in tracks]\n",
    "    df['main_artist'] = main_artist_names\n",
    "    df['song_name'] = song_names\n",
    "\n",
    "    return df"
   ]
  },
  {
   "cell_type": "code",
   "execution_count": 25,
   "id": "f4afcc67",
   "metadata": {},
   "outputs": [],
   "source": [
    "def get_df_from_multi_playlists(playlists):\n",
    "\n",
    "    df = pd.DataFrame()\n",
    "\n",
    "    for pl in playlists:\n",
    "\n",
    "        df_ = get_df_from_playlist(pl)\n",
    "        df = pd.concat([df,df_]).drop_duplicates().dropna().reset_index(drop=True)\n",
    "        \n",
    "        time.sleep(30)\n",
    "\n",
    "    return df"
   ]
  },
  {
   "cell_type": "markdown",
   "id": "8561ee57",
   "metadata": {},
   "source": [
    "## I. Sourcing song data"
   ]
  },
  {
   "cell_type": "markdown",
   "id": "114c43f7",
   "metadata": {},
   "source": [
    "### Popular songs (charts, top countries)"
   ]
  },
  {
   "cell_type": "code",
   "execution_count": 16,
   "id": "85e01074",
   "metadata": {},
   "outputs": [
    {
     "data": {
      "text/plain": [
       "590"
      ]
     },
     "execution_count": 16,
     "metadata": {},
     "output_type": "execute_result"
    }
   ],
   "source": [
    "#playlists featuring top charting songs\n",
    "\n",
    "top_songs_playlists = [\n",
    "    \"6UeSakyzhiEt4NB3UAd6NQ\", #official Billboard Hot 100 playlist\n",
    "    \"65LdqYCLcsV0lJoxpeQ6fW\", #tiktok viral hits 2023 (286)\n",
    "\n",
    "    \"37i9dQZEVXbNG2KDcFcKOF\", #Spotify top 50 Global\n",
    "   \"37i9dQZEVXbLp5XoPON0wI\", #Spotify top 50 US\n",
    "   \"37i9dQZEVXbKqiTGXuCOsB\", #Spotify top 50 Japan\n",
    "   \"37i9dQZEVXbMwmF30ppw50\", #Spotify top 50 UK\n",
    "   \"37i9dQZEVXbK8BKKMArIyl\", #Spotify top 50 Germany\n",
    "    \"37i9dQZEVXbIPWwFssbupI\" #Spotify top 50 France\n",
    "]\n",
    "\n",
    "df_top_songs = get_df_from_multi_playlists(top_songs_playlists)\n",
    "len(df_top_songs)"
   ]
  },
  {
   "cell_type": "markdown",
   "id": "dccf72d7",
   "metadata": {},
   "source": [
    "### Broader song picks (best ofs, decades, popular genres, emerging)"
   ]
  },
  {
   "cell_type": "code",
   "execution_count": 17,
   "id": "e118446a",
   "metadata": {},
   "outputs": [
    {
     "data": {
      "text/plain": [
       "3603"
      ]
     },
     "execution_count": 17,
     "metadata": {},
     "output_type": "execute_result"
    }
   ],
   "source": [
    "#playlist picks - greatest hits, new releases, genre, decade\n",
    "\n",
    "picks_playlists = [\n",
    "    \"37i9dQZF1DX5Rc4HJf52tj\", #new hip hop and r&b (100)\n",
    "    \"2fiMj3MyjrRCPS4hkUPt75\", #beatport best new trap (100)\n",
    "    \"37i9dQZF1DX11otjJ7crqp\", #new pop picks (106)\n",
    "    \"37i9dQZF1DWZryfp6NSvtz\", #all new rock (50)\n",
    "    \"37i9dQZF1DX7Y7BqFok9IQ\", #modern blues rock (150)\n",
    "    \"37i9dQZF1DWWrJKwf0q9nn\", #hot new dance (83)\n",
    "    \"4ey270tjW7LT0S2scJJ5yI\", #new house and bass 2023 (105)\n",
    "    \"37i9dQZF1DX44dZ4p5QLf4\", #next wave soul (100)\n",
    "    \n",
    "    \"5ABHKGoOzxkaa28ttQV9sE\", #top 100 most streamed on spotify (all time)\n",
    "    \n",
    "    \"37i9dQZF1DX1tz6EDao8it\", #iconic soundtracks(82)\n",
    "    \"37i9dQZF1DXd9rSDyQguIk\", #blues classics (70)\n",
    "    \"37i9dQZF1DWWvhKV4FBciw\", #funk and soul classics (80)\n",
    "    \"37i9dQZF1DX04mASjTsvf0\", #r&b classics (100)\n",
    "    \"4TJiZKy0vcEZa20ixnuQUh\", #greatest hits electronic (47)\n",
    "    \"37i9dQZF1DWTU3Zl0elDUa\", #90s house classics (60)\n",
    "    \"37i9dQZF1DX5qmTk3PVatJ\", #greatest hiphop beats of all time (50)\n",
    "    \"37i9dQZF1DWXRqgorJj26U\", #rock classics (200)\n",
    "    \"7AsZxdanrHJFNGp3q7tp1f\", #best of pop 1990 2023 (1200)\n",
    "\n",
    "    \"37i9dQZF1DWTJ7xPn4vNaz\", #all out 70s\n",
    "    \"37i9dQZF1DX4UtSsGT1Sbe\", #all out 80s\n",
    "    \"37i9dQZF1DXbTxeAdrVG2l\", #all out 90s\n",
    "    \"37i9dQZF1DX4o1oenSJRJd\", #all out 2000s\n",
    "    \"37i9dQZF1DX5Ejj0EkURtP\"  #all out 2010s\n",
    "]\n",
    "\n",
    "df_picks_songs = get_df_from_multi_playlists(picks_playlists)\n",
    "len(df_picks_songs)"
   ]
  },
  {
   "cell_type": "code",
   "execution_count": 94,
   "id": "f0297461",
   "metadata": {},
   "outputs": [],
   "source": [
    "df_top_songs.to_csv('top_songs.csv')\n",
    "df_picks_songs.to_csv('picks_songs.csv')"
   ]
  },
  {
   "cell_type": "code",
   "execution_count": null,
   "id": "37c9f10c",
   "metadata": {},
   "outputs": [],
   "source": [
    "#df_top_songs = pd.read_csv('top_songs.csv')\n",
    "#df_picks_songs = pd.read_csv('picks_songs.csv')"
   ]
  },
  {
   "cell_type": "code",
   "execution_count": 26,
   "id": "f51fe630",
   "metadata": {},
   "outputs": [],
   "source": [
    "df_all = pd.concat([df_picks_songs, df_top_songs]).drop_duplicates().dropna().reset_index(drop=True)   "
   ]
  },
  {
   "cell_type": "markdown",
   "id": "b4ee88f1",
   "metadata": {},
   "source": [
    "## II. Implementing clusters"
   ]
  },
  {
   "cell_type": "markdown",
   "id": "3ec3d410",
   "metadata": {},
   "source": [
    "* Feature selection\n",
    "* Scaling\n",
    "* Clustering with k-means"
   ]
  },
  {
   "cell_type": "markdown",
   "id": "0f818651",
   "metadata": {},
   "source": [
    "#### Helper function - implements the algorithm and applies it to the inputed song, returns recommendation"
   ]
  },
  {
   "cell_type": "code",
   "execution_count": 91,
   "id": "c37c2887",
   "metadata": {},
   "outputs": [],
   "source": [
    "def apply_scaler_and_clustering(df, track_id):\n",
    "    \n",
    "    cols = ['danceability', 'energy', 'key', 'loudness', 'mode', 'speechiness', 'acousticness', 'instrumentalness', 'liveness', 'valence', 'tempo']\n",
    "    \n",
    "    scaler = StandardScaler()\n",
    "    x_prep = scaler.fit_transform(df[cols])\n",
    "\n",
    "    kmeans = KMeans(n_clusters=3, random_state=42)\n",
    "    kmeans.fit(x_prep)\n",
    "\n",
    "    clusters = kmeans.predict(x_prep)\n",
    "\n",
    "    scaled_df = pd.DataFrame(x_prep, columns=df[cols].columns)\n",
    "    scaled_df['song_name'] = df['song_name']\n",
    "    scaled_df['main_artist'] = df['main_artist']\n",
    "    scaled_df['cluster'] = clusters\n",
    "    \n",
    "    #return scaled_df\n",
    "\n",
    "       \n",
    "    audio_features = sp.audio_features(track_id)\n",
    "    df_ = pd.DataFrame(audio_features)\n",
    "    new_features = df_[cols]\n",
    "    scaled_x = scaler.transform(new_features)\n",
    "    prediction = kmeans.predict(scaled_x)\n",
    "    \n",
    "    filtered_df = np.array(scaled_df[scaled_df['cluster'] == prediction[0]][x.columns], order=\"C\")\n",
    "    closest, _ = pairwise_distances_argmin_min(scaled_x, filtered_df)\n",
    "    \n",
    "    print('\\n[RECOMMENDED SONG]')\n",
    "    print(' - '.join([scaled_df.loc[closest]['song_name'].values[0], scaled_df.loc[closest]['main_artist'].values[0]]))\n",
    "    print('\\n=======================================')"
   ]
  },
  {
   "cell_type": "markdown",
   "id": "e6486f6b",
   "metadata": {},
   "source": [
    "## III. Input"
   ]
  },
  {
   "cell_type": "markdown",
   "id": "2b39d43e",
   "metadata": {},
   "source": [
    "#### Helper function - searches song by keyword, checks whether it is trending, then calls the recommendation algorithm passing in the song id"
   ]
  },
  {
   "cell_type": "code",
   "execution_count": 92,
   "id": "3e23abb1",
   "metadata": {},
   "outputs": [],
   "source": [
    "def get_song_recommendation(kws):\n",
    "    \n",
    "    results = sp.search(q=f'track:{kws}', limit=1)\n",
    "    \n",
    "    track_id = results['tracks']['items'][0]['id']\n",
    "    track_name = results['tracks']['items'][0]['name']\n",
    "    track_artist = results['tracks']['items'][0]['artists'][0]['name']\n",
    "    \n",
    "    print('=======================================\\n')\n",
    "    print('[SEARCHED SONG]')\n",
    "    print(track_name, '-', track_artist)\n",
    "\n",
    "    apply_scaler_and_clustering(df_top_songs if track_id in df_top_songs['id'].values else df_all, track_id)"
   ]
  },
  {
   "cell_type": "markdown",
   "id": "0708649f",
   "metadata": {},
   "source": [
    "#### test keywords"
   ]
  },
  {
   "cell_type": "code",
   "execution_count": 96,
   "id": "213b58f7",
   "metadata": {},
   "outputs": [
    {
     "name": "stdout",
     "output_type": "stream",
     "text": [
      "=======================================\n",
      "\n",
      "[SEARCHED SONG]\n",
      "Viva La Vida - Coldplay\n",
      "\n",
      "[RECOMMENDED SONG]\n",
      "The Flight To Neverland - From \"Hook\" - John Williams\n",
      "\n",
      "=======================================\n",
      "=======================================\n",
      "\n",
      "[SEARCHED SONG]\n",
      "Sweet Child O' Mine - Guns N' Roses\n",
      "\n",
      "[RECOMMENDED SONG]\n",
      "Blind - Reznikov\n",
      "\n",
      "=======================================\n",
      "=======================================\n",
      "\n",
      "[SEARCHED SONG]\n",
      "Fast Car - Luke Combs\n",
      "\n",
      "[RECOMMENDED SONG]\n",
      "Paint The Town Red - Doja Cat\n",
      "\n",
      "=======================================\n",
      "=======================================\n",
      "\n",
      "[SEARCHED SONG]\n",
      "Paint The Town Red - Doja Cat\n",
      "\n",
      "[RECOMMENDED SONG]\n",
      "Paint The Town Red - Doja Cat\n",
      "\n",
      "=======================================\n",
      "=======================================\n",
      "\n",
      "[SEARCHED SONG]\n",
      "It's My Life - Bon Jovi\n",
      "\n",
      "[RECOMMENDED SONG]\n",
      "Little Red Rooster - Willie Dixon\n",
      "\n",
      "=======================================\n",
      "=======================================\n",
      "\n",
      "[SEARCHED SONG]\n",
      "Still D.R.E. - Dr. Dre\n",
      "\n",
      "[RECOMMENDED SONG]\n",
      "Loca - Dubdogz\n",
      "\n",
      "=======================================\n"
     ]
    }
   ],
   "source": [
    "#keyword format: \"song title\" OR \"song tile\" + \"artist\"\n",
    "test_kws = [\n",
    "    'viva la vida',\n",
    "    'sweet child',\n",
    "    'fast car',\n",
    "    'paint the town red',\n",
    "    'its my life',\n",
    "    'still dre'\n",
    "]\n",
    "\n",
    "for kw in test_kws:\n",
    "    get_song_recommendation(kw)"
   ]
  },
  {
   "cell_type": "markdown",
   "id": "6e66c05a",
   "metadata": {},
   "source": [
    "#### Input dialog"
   ]
  },
  {
   "cell_type": "code",
   "execution_count": 97,
   "id": "d8991c04",
   "metadata": {
    "scrolled": true
   },
   "outputs": [
    {
     "name": "stdout",
     "output_type": "stream",
     "text": [
      "Choose a song (or optionally a song + artist name): sweet child\n",
      "\n",
      "=======================================\n",
      "\n",
      "[SEARCHED SONG]\n",
      "Sweet Child O' Mine - Guns N' Roses\n",
      "\n",
      "[RECOMMENDED SONG]\n",
      "Blind - Reznikov\n",
      "\n",
      "=======================================\n"
     ]
    }
   ],
   "source": [
    "kw = input('Choose a song (or optionally a song + artist name): ')\n",
    "print()\n",
    "get_song_recommendation(kw)"
   ]
  },
  {
   "cell_type": "code",
   "execution_count": null,
   "id": "82891074",
   "metadata": {},
   "outputs": [],
   "source": []
  }
 ],
 "metadata": {
  "kernelspec": {
   "display_name": "Python 3 (ipykernel)",
   "language": "python",
   "name": "python3"
  },
  "language_info": {
   "codemirror_mode": {
    "name": "ipython",
    "version": 3
   },
   "file_extension": ".py",
   "mimetype": "text/x-python",
   "name": "python",
   "nbconvert_exporter": "python",
   "pygments_lexer": "ipython3",
   "version": "3.10.9"
  }
 },
 "nbformat": 4,
 "nbformat_minor": 5
}
